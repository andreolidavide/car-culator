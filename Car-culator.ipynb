{
 "cells": [
  {
   "cell_type": "markdown",
   "metadata": {},
   "source": [
    "# Data Extraction"
   ]
  },
  {
   "cell_type": "code",
   "execution_count": 23,
   "metadata": {},
   "outputs": [],
   "source": [
    "import requests\n",
    "import re\n",
    "import sys\n",
    "import unicodedata\n",
    "from bs4 import BeautifulSoup\n",
    "import pandas as pd\n",
    "import numpy as np\n",
    "import matplotlib.pyplot as plt\n",
    "import seaborn as sns"
   ]
  },
  {
   "cell_type": "code",
   "execution_count": null,
   "metadata": {},
   "outputs": [],
   "source": [
    "automobile_url = \"https://www.automobile.it/usate/page-1\"\n",
    "response = requests.get(automobile_url)\n",
    "soup = BeautifulSoup(response.text, 'html.parser')\n",
    "\n",
    "# Initialize the empty car list, which will hold all the cars scraped from the website\n",
    "car_list = []\n",
    "\n",
    "# The website is structured like this: there is a list of all the cars that are on the market, divided in pages. Each page contains a few cars ads.\n",
    "# By clicking on an ad, you are then brought to a page with the details related to the car in that ad, like cahracteristics and price.\n",
    "\n",
    "# Find the maximum number of pages\n",
    "max_pages = int(soup.find_all('button', class_=\"jsx-2138479547 font-base auto inline-circled styled value\")[-1].text)\n",
    "# Iterate over the range 1 to max number of pages\n",
    "for i in range(1, max_pages +1):\n",
    "    # Construct the url of the page, get the html and parse it\n",
    "    page_url = \"https://www.automobile.it/usate/page-\" + str(i)\n",
    "    page_response = requests.get(page_url)\n",
    "    print(page_url)\n",
    "    page_soup = BeautifulSoup(page_response.text, 'html.parser')\n",
    "    # Extract all the cars ad on the current page and iterate over them\n",
    "    car_ads_list = page_soup.find_all('a', class_=\"jsx-2059509079 Card hover-effect CardAd\")\n",
    "    for car_ad in car_ads_list:\n",
    "        # Create empty car object\n",
    "        car = {}\n",
    "        # Extract the url of the details of the ad, get the html and parse it\n",
    "        car_details_page_url = \"https://www.automobile.it\" + car_ad.attrs['href']\n",
    "        print(car_details_page_url)\n",
    "        car_details_response = requests.get(car_details_page_url)\n",
    "        car_details_page = BeautifulSoup(car_details_response.text, 'html.parser')\n",
    "        # Sometimes the links are broken and lead to a 404 page, if that is the case this iteration will be skipped\n",
    "        if car_details_page.find('div', class_='jsx-1421767171 PageNotFound'):\n",
    "            continue\n",
    "        # Get the price and assign it to the car object\n",
    "        car_price = car_details_page.find('span',class_=\"jsx-139447011 Price\").text\n",
    "        car['price'] = car_price\n",
    "        # Get the car characteristics groups and iterate over them\n",
    "        car_characteristics_groups = car_details_page.find_all('div', class_=\"jsx-3587327592 Item\")\n",
    "        for characteristic_group in car_characteristics_groups:\n",
    "            # Get the category name for the characteristics group\n",
    "            characteristic_category = characteristic_group.find('span').text\n",
    "            # Initialize an empty list\n",
    "            characteristics_list = []\n",
    "            # Find all characteristics and iterate over them if they are more than 1, adding them to the list. Then add it to the car object, with the category as key.\n",
    "            characteristics = characteristic_group.find_all('div')\n",
    "            if len(characteristics) > 1:\n",
    "                for characteristic in characteristics:\n",
    "                    characteristics_list.append(characteristic.text)\n",
    "                car[characteristic_category] = characteristics_list\n",
    "            else:\n",
    "                car[characteristic_category] = characteristics[0].text\n",
    "        # Append the new car object to the car list\n",
    "        car_list.append(car)\n",
    "        "
   ]
  },
  {
   "cell_type": "code",
   "execution_count": 2,
   "metadata": {},
   "outputs": [
    {
     "ename": "NameError",
     "evalue": "name 'car_list' is not defined",
     "output_type": "error",
     "traceback": [
      "\u001b[0;31m---------------------------------------------------------------------------\u001b[0m",
      "\u001b[0;31mNameError\u001b[0m                                 Traceback (most recent call last)",
      "\u001b[1;32m/Users/davideandreoli/Developer/Data Analysis/Car-culator/Car-culator.ipynb Cell 4'\u001b[0m in \u001b[0;36m<cell line: 2>\u001b[0;34m()\u001b[0m\n\u001b[1;32m      <a href='vscode-notebook-cell:/Users/davideandreoli/Developer/Data%20Analysis/Car-culator/Car-culator.ipynb#ch0000005?line=0'>1</a>\u001b[0m \u001b[39m# Convert the car list to a data frame, and save it to a csv file for safe keeping\u001b[39;00m\n\u001b[0;32m----> <a href='vscode-notebook-cell:/Users/davideandreoli/Developer/Data%20Analysis/Car-culator/Car-culator.ipynb#ch0000005?line=1'>2</a>\u001b[0m df \u001b[39m=\u001b[39m pd\u001b[39m.\u001b[39mDataFrame(car_list)\n\u001b[1;32m      <a href='vscode-notebook-cell:/Users/davideandreoli/Developer/Data%20Analysis/Car-culator/Car-culator.ipynb#ch0000005?line=2'>3</a>\u001b[0m df\u001b[39m.\u001b[39mto_csv(\u001b[39m\"\u001b[39m\u001b[39mdata.csv\u001b[39m\u001b[39m\"\u001b[39m, sep\u001b[39m=\u001b[39m\u001b[39m\"\u001b[39m\u001b[39m\\t\u001b[39;00m\u001b[39m\"\u001b[39m)\n",
      "\u001b[0;31mNameError\u001b[0m: name 'car_list' is not defined"
     ]
    }
   ],
   "source": [
    "# Convert the car list to a data frame, and save it to a csv file for safe keeping\n",
    "df = pd.DataFrame(car_list)\n",
    "df.to_csv(\"data.csv\", sep=\"\\t\")"
   ]
  },
  {
   "cell_type": "markdown",
   "metadata": {},
   "source": [
    "# Data Wrangling"
   ]
  },
  {
   "cell_type": "code",
   "execution_count": 129,
   "metadata": {},
   "outputs": [],
   "source": [
    "# Create a data frame starting from the csv file\n",
    "df = pd.read_csv(\"data.csv\", sep='\\t', index_col=0)\n",
    "# Drop the description column, as I don't think it's useful. The new data extraction algorithm doesn't collect it anymore\n",
    "df.drop('description', axis=1, inplace=True)\n",
    "# Drop other less useful columns\n",
    "df.drop('Tipo di usato', axis=1, inplace=True)\n",
    "df.drop('Tipologia', axis=1, inplace=True)"
   ]
  },
  {
   "cell_type": "code",
   "execution_count": 130,
   "metadata": {},
   "outputs": [],
   "source": [
    "# Remove the points and euro sign from price column, and convert it to numeric\n",
    "df['price'].replace({'\\.':'', '€ ':''}, regex=True, inplace=True)\n",
    "df['price'] = pd.to_numeric(df['price'])\n",
    "#Remove the points from the kilometer column\n",
    "df['Chilometri'] = df['Chilometri'].astype('str')\n",
    "df['Chilometri'].replace({'\\.':'', '€ ':''}, regex=True, inplace=True)\n",
    "df['Chilometri'] = pd.to_numeric(df['Chilometri'], errors='coerce')\n",
    "# Remove the month from Immatricolazione column, and make it a date\n",
    "df['Immatricolazione'] = df['Immatricolazione'].str.replace(r'[A-Za-z]','', regex=True)\n",
    "df['Immatricolazione'] = df['Immatricolazione'].str.lstrip()\n",
    "df['Immatricolazione'] = pd.to_datetime(df['Immatricolazione'], format='%Y')\n",
    "# Split the power column into kw and CV, and convert it to numeric\n",
    "df[['Potenza-kW', 'Potenza-CV']] = df['Potenza'].str.split('(', expand=True)\n",
    "df['Potenza-CV'] = df['Potenza-CV'].str.replace(' CV)', '', regex=False)\n",
    "df['Potenza-kW'] = df['Potenza-kW'].str.replace(' kW', '', regex=False)\n",
    "df['Potenza-CV'] = pd.to_numeric(df['Potenza-CV'])\n",
    "df['Potenza-kW'] = pd.to_numeric(df['Potenza-kW'])\n",
    "# Convert cilindrata to numeric\n",
    "df['Cilindrata'] = df['Cilindrata'].str.replace(' cm³', '', regex=False)\n",
    "df['Cilindrata'] = pd.to_numeric(df['Cilindrata'])\n",
    "# Convert filtro antiparticolato NaN to No\n",
    "df['Filtro antiparticolato'].replace(np.nan, '0', inplace=True)\n",
    "df['Filtro antiparticolato'].replace('Sì', '1', inplace=True)\n",
    "df['Filtro antiparticolato'] = df['Filtro antiparticolato'].astype('int')\n",
    "# Convert consumo combinato to numeric\n",
    "# TODO - Deal with the different units --> maybe split columns\n",
    "df['Consumo combinato'] = df['Consumo combinato'].str.replace(' l/100 km', '', regex=False)\n",
    "df['Consumo combinato'] = df['Consumo combinato'].str.replace(' Kg/100 km', '', regex=False)\n",
    "df['Consumo combinato'] = df['Consumo combinato'].str.replace(' kWh/100 km', '', regex=False)\n",
    "df['Consumo combinato'] = pd.to_numeric(df['Consumo combinato'])\n",
    "# Convert consumo extraurbano to numeric\n",
    "# TODO - Deal with the different units --> maybe split columns\n",
    "df['Consumo extraurbano'] = df['Consumo extraurbano'].str.replace(' l/100 km', '', regex=False)\n",
    "df['Consumo extraurbano'] = df['Consumo extraurbano'].str.replace(' Kg/100 km', '', regex=False)\n",
    "df['Consumo extraurbano'] = df['Consumo extraurbano'].str.replace(' kWh/100 km', '', regex=False)\n",
    "df['Consumo extraurbano'] = pd.to_numeric(df['Consumo extraurbano'])\n",
    "# Convert consumo urbano to numeric\n",
    "# TODO - Deal with the different units --> maybe split columns\n",
    "df['Consumo urbano'] = df['Consumo urbano'].str.replace(' l/100 km', '', regex=False)\n",
    "df['Consumo urbano'] = df['Consumo urbano'].str.replace(' Kg/100 km', '', regex=False)\n",
    "df['Consumo urbano'] = df['Consumo urbano'].str.replace(' kWh/100 km', '', regex=False)\n",
    "df['Consumo urbano'] = pd.to_numeric(df['Consumo urbano'])\n",
    "# Convert emissioni CO2 to numeric\n",
    "df['Emissioni CO2'] = df['Emissioni CO2'].str.replace(' g/Km', '', regex=False)\n",
    "df['Emissioni CO2'] = pd.to_numeric(df['Emissioni CO2'])\n",
    "# Convert metallizzazo NaN to No\n",
    "df['Metallizzato'].replace(np.nan, '0', inplace=True)\n",
    "df['Metallizzato'].replace('Sì', '1', inplace=True)\n",
    "df['Metallizzato'] = df['Metallizzato'].astype('int')\n",
    "# Convert In grado di viaggiare NaN to No\n",
    "df['In grado di viaggiare'].replace(np.nan, '0', inplace=True)\n",
    "df['In grado di viaggiare'].replace('Sì', '1', inplace=True)\n",
    "df['In grado di viaggiare'] = df['In grado di viaggiare'].astype('int')\n",
    "# Convert Scadenza Revisione to datetime\n",
    "df['Scadenza Revisione'] = df['Scadenza Revisione'].astype('str')\n",
    "df['Scadenza Revisione'] = df['Scadenza Revisione'].str.replace('.0', '', regex=False)\n",
    "df['Scadenza Revisione'] = pd.to_datetime(df['Scadenza Revisione'])\n",
    "# Convert Iva deducibile NaN to No\n",
    "df['IVA deducibile'].replace(np.nan, '0', inplace=True)\n",
    "df['IVA deducibile'].replace('Sì', '1', inplace=True)\n",
    "df['IVA deducibile'] = df['IVA deducibile'].astype('int')\n",
    "\n"
   ]
  },
  {
   "cell_type": "code",
   "execution_count": 131,
   "metadata": {},
   "outputs": [
    {
     "data": {
      "text/plain": [
       "Index(['price', 'Marca', 'Modello', 'Versione', 'Carburante', 'Chilometri',\n",
       "       'Immatricolazione', 'Potenza', 'Cambio', 'Numero di porte',\n",
       "       'Numero di posti', 'Cilindrata', 'Carrozzeria',\n",
       "       'Filtro antiparticolato', 'Consumo combinato', 'Consumo extraurbano',\n",
       "       'Consumo urbano', 'Emissioni CO2', 'Classe emissioni', 'Colore esterno',\n",
       "       'Metallizzato', 'In grado di viaggiare', 'Multimedia', 'Sicurezza',\n",
       "       'Comfort', 'Varie', 'Luci', 'Trasporto', 'Assetto', 'Design Interni',\n",
       "       'Colore Interni', 'Proprietari precedenti', 'Scadenza Revisione',\n",
       "       'IVA deducibile', 'Potenza-kW', 'Potenza-CV'],\n",
       "      dtype='object')"
      ]
     },
     "execution_count": 131,
     "metadata": {},
     "output_type": "execute_result"
    }
   ],
   "source": [
    "df.columns"
   ]
  },
  {
   "cell_type": "code",
   "execution_count": 132,
   "metadata": {},
   "outputs": [],
   "source": [
    "# Some columns contains list of values, so a function is used to get the single elements and convert them to dummy variables\n",
    "def clean_list_columns(df, chosen_option):\n",
    "    # TODO - Change the data extraction algorithm to not store a list but a string\n",
    "    # Clean the string values\n",
    "    df[chosen_option].replace(np.nan, chosen_option + '_No', inplace=True)\n",
    "    df[chosen_option] = df[chosen_option].str.replace('\\'', '', regex=False)\n",
    "    df[chosen_option] = df[chosen_option].str.replace('[', '', regex=False)\n",
    "    df[chosen_option] = df[chosen_option].str.replace(']', '',regex=False)\n",
    "    # Initialize an empty list that will contains unique options\n",
    "    options_list = []\n",
    "    # Iterate over all rows\n",
    "    for index, row in df.iterrows():\n",
    "        # Split the strings into a list of string, iterate over it and appen the option to the options list if it's not there\n",
    "        options = row[chosen_option].split(',')\n",
    "        for option in options:\n",
    "            if option.lstrip() not in options_list:\n",
    "                options_list.append(option.lstrip())\n",
    "    # Iterate over the option list and create a new column for each option that equals 1 if the original column contains the option, 0 if it doesn't\n",
    "    for option in options_list:\n",
    "        df[chosen_option + '_' + option] = np.where(df[chosen_option].str.contains(option), 1, 0)\n",
    "\n",
    "\n",
    "for option in ['Multimedia','Sicurezza', 'Comfort', 'Varie','Luci','Trasporto','Assetto']:\n",
    "    clean_list_columns(df, option)\n",
    "    df.drop(option, axis=1, inplace=True)\n",
    "\n",
    "\n",
    "dummies = ['Marca', 'Modello', 'Carburante', 'Cambio','Numero di porte','Numero di posti', 'Classe emissioni','Colore esterno','Design Interni','Colore Interni','Proprietari precedenti']\n",
    "df = pd.get_dummies(df, columns=dummies, prefix=dummies)"
   ]
  },
  {
   "cell_type": "code",
   "execution_count": 133,
   "metadata": {},
   "outputs": [
    {
     "ename": "KeyError",
     "evalue": "'Marca'",
     "output_type": "error",
     "traceback": [
      "\u001b[0;31m---------------------------------------------------------------------------\u001b[0m",
      "\u001b[0;31mKeyError\u001b[0m                                  Traceback (most recent call last)",
      "File \u001b[0;32m~/opt/anaconda3/lib/python3.9/site-packages/pandas/core/indexes/base.py:3621\u001b[0m, in \u001b[0;36mIndex.get_loc\u001b[0;34m(self, key, method, tolerance)\u001b[0m\n\u001b[1;32m   <a href='file:///Users/davideandreoli/opt/anaconda3/lib/python3.9/site-packages/pandas/core/indexes/base.py?line=3619'>3620</a>\u001b[0m \u001b[39mtry\u001b[39;00m:\n\u001b[0;32m-> <a href='file:///Users/davideandreoli/opt/anaconda3/lib/python3.9/site-packages/pandas/core/indexes/base.py?line=3620'>3621</a>\u001b[0m     \u001b[39mreturn\u001b[39;00m \u001b[39mself\u001b[39;49m\u001b[39m.\u001b[39;49m_engine\u001b[39m.\u001b[39;49mget_loc(casted_key)\n\u001b[1;32m   <a href='file:///Users/davideandreoli/opt/anaconda3/lib/python3.9/site-packages/pandas/core/indexes/base.py?line=3621'>3622</a>\u001b[0m \u001b[39mexcept\u001b[39;00m \u001b[39mKeyError\u001b[39;00m \u001b[39mas\u001b[39;00m err:\n",
      "File \u001b[0;32m~/opt/anaconda3/lib/python3.9/site-packages/pandas/_libs/index.pyx:136\u001b[0m, in \u001b[0;36mpandas._libs.index.IndexEngine.get_loc\u001b[0;34m()\u001b[0m\n",
      "File \u001b[0;32m~/opt/anaconda3/lib/python3.9/site-packages/pandas/_libs/index.pyx:163\u001b[0m, in \u001b[0;36mpandas._libs.index.IndexEngine.get_loc\u001b[0;34m()\u001b[0m\n",
      "File \u001b[0;32mpandas/_libs/hashtable_class_helper.pxi:5198\u001b[0m, in \u001b[0;36mpandas._libs.hashtable.PyObjectHashTable.get_item\u001b[0;34m()\u001b[0m\n",
      "File \u001b[0;32mpandas/_libs/hashtable_class_helper.pxi:5206\u001b[0m, in \u001b[0;36mpandas._libs.hashtable.PyObjectHashTable.get_item\u001b[0;34m()\u001b[0m\n",
      "\u001b[0;31mKeyError\u001b[0m: 'Marca'",
      "\nThe above exception was the direct cause of the following exception:\n",
      "\u001b[0;31mKeyError\u001b[0m                                  Traceback (most recent call last)",
      "\u001b[1;32m/Users/davideandreoli/Developer/Data Analysis/Car-culator/Car-culator.ipynb Cell 10'\u001b[0m in \u001b[0;36m<cell line: 1>\u001b[0;34m()\u001b[0m\n\u001b[0;32m----> <a href='vscode-notebook-cell:/Users/davideandreoli/Developer/Data%20Analysis/Car-culator/Car-culator.ipynb#ch0000010?line=0'>1</a>\u001b[0m df[\u001b[39m'\u001b[39;49m\u001b[39mMarca\u001b[39;49m\u001b[39m'\u001b[39;49m]\n",
      "File \u001b[0;32m~/opt/anaconda3/lib/python3.9/site-packages/pandas/core/frame.py:3505\u001b[0m, in \u001b[0;36mDataFrame.__getitem__\u001b[0;34m(self, key)\u001b[0m\n\u001b[1;32m   <a href='file:///Users/davideandreoli/opt/anaconda3/lib/python3.9/site-packages/pandas/core/frame.py?line=3502'>3503</a>\u001b[0m \u001b[39mif\u001b[39;00m \u001b[39mself\u001b[39m\u001b[39m.\u001b[39mcolumns\u001b[39m.\u001b[39mnlevels \u001b[39m>\u001b[39m \u001b[39m1\u001b[39m:\n\u001b[1;32m   <a href='file:///Users/davideandreoli/opt/anaconda3/lib/python3.9/site-packages/pandas/core/frame.py?line=3503'>3504</a>\u001b[0m     \u001b[39mreturn\u001b[39;00m \u001b[39mself\u001b[39m\u001b[39m.\u001b[39m_getitem_multilevel(key)\n\u001b[0;32m-> <a href='file:///Users/davideandreoli/opt/anaconda3/lib/python3.9/site-packages/pandas/core/frame.py?line=3504'>3505</a>\u001b[0m indexer \u001b[39m=\u001b[39m \u001b[39mself\u001b[39;49m\u001b[39m.\u001b[39;49mcolumns\u001b[39m.\u001b[39;49mget_loc(key)\n\u001b[1;32m   <a href='file:///Users/davideandreoli/opt/anaconda3/lib/python3.9/site-packages/pandas/core/frame.py?line=3505'>3506</a>\u001b[0m \u001b[39mif\u001b[39;00m is_integer(indexer):\n\u001b[1;32m   <a href='file:///Users/davideandreoli/opt/anaconda3/lib/python3.9/site-packages/pandas/core/frame.py?line=3506'>3507</a>\u001b[0m     indexer \u001b[39m=\u001b[39m [indexer]\n",
      "File \u001b[0;32m~/opt/anaconda3/lib/python3.9/site-packages/pandas/core/indexes/base.py:3623\u001b[0m, in \u001b[0;36mIndex.get_loc\u001b[0;34m(self, key, method, tolerance)\u001b[0m\n\u001b[1;32m   <a href='file:///Users/davideandreoli/opt/anaconda3/lib/python3.9/site-packages/pandas/core/indexes/base.py?line=3620'>3621</a>\u001b[0m     \u001b[39mreturn\u001b[39;00m \u001b[39mself\u001b[39m\u001b[39m.\u001b[39m_engine\u001b[39m.\u001b[39mget_loc(casted_key)\n\u001b[1;32m   <a href='file:///Users/davideandreoli/opt/anaconda3/lib/python3.9/site-packages/pandas/core/indexes/base.py?line=3621'>3622</a>\u001b[0m \u001b[39mexcept\u001b[39;00m \u001b[39mKeyError\u001b[39;00m \u001b[39mas\u001b[39;00m err:\n\u001b[0;32m-> <a href='file:///Users/davideandreoli/opt/anaconda3/lib/python3.9/site-packages/pandas/core/indexes/base.py?line=3622'>3623</a>\u001b[0m     \u001b[39mraise\u001b[39;00m \u001b[39mKeyError\u001b[39;00m(key) \u001b[39mfrom\u001b[39;00m \u001b[39merr\u001b[39;00m\n\u001b[1;32m   <a href='file:///Users/davideandreoli/opt/anaconda3/lib/python3.9/site-packages/pandas/core/indexes/base.py?line=3623'>3624</a>\u001b[0m \u001b[39mexcept\u001b[39;00m \u001b[39mTypeError\u001b[39;00m:\n\u001b[1;32m   <a href='file:///Users/davideandreoli/opt/anaconda3/lib/python3.9/site-packages/pandas/core/indexes/base.py?line=3624'>3625</a>\u001b[0m     \u001b[39m# If we have a listlike key, _check_indexing_error will raise\u001b[39;00m\n\u001b[1;32m   <a href='file:///Users/davideandreoli/opt/anaconda3/lib/python3.9/site-packages/pandas/core/indexes/base.py?line=3625'>3626</a>\u001b[0m     \u001b[39m#  InvalidIndexError. Otherwise we fall through and re-raise\u001b[39;00m\n\u001b[1;32m   <a href='file:///Users/davideandreoli/opt/anaconda3/lib/python3.9/site-packages/pandas/core/indexes/base.py?line=3626'>3627</a>\u001b[0m     \u001b[39m#  the TypeError.\u001b[39;00m\n\u001b[1;32m   <a href='file:///Users/davideandreoli/opt/anaconda3/lib/python3.9/site-packages/pandas/core/indexes/base.py?line=3627'>3628</a>\u001b[0m     \u001b[39mself\u001b[39m\u001b[39m.\u001b[39m_check_indexing_error(key)\n",
      "\u001b[0;31mKeyError\u001b[0m: 'Marca'"
     ]
    }
   ],
   "source": []
  },
  {
   "cell_type": "code",
   "execution_count": 109,
   "metadata": {},
   "outputs": [],
   "source": []
  },
  {
   "cell_type": "code",
   "execution_count": null,
   "metadata": {},
   "outputs": [],
   "source": []
  }
 ],
 "metadata": {
  "interpreter": {
   "hash": "9ee9fc14769d8cf589862327116898794ea643e8f14803590679e25e555b001f"
  },
  "kernelspec": {
   "display_name": "Python 3.9.12 ('base')",
   "language": "python",
   "name": "python3"
  },
  "language_info": {
   "codemirror_mode": {
    "name": "ipython",
    "version": 3
   },
   "file_extension": ".py",
   "mimetype": "text/x-python",
   "name": "python",
   "nbconvert_exporter": "python",
   "pygments_lexer": "ipython3",
   "version": "3.9.12"
  },
  "orig_nbformat": 4
 },
 "nbformat": 4,
 "nbformat_minor": 2
}
